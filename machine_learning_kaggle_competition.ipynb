{
 "cells": [
  {
   "cell_type": "code",
   "execution_count": 26,
   "metadata": {
    "colab": {
     "base_uri": "https://localhost:8080/",
     "height": 105
    },
    "colab_type": "code",
    "id": "aX3G90jvn5sW",
    "outputId": "8504a59e-6605-4b0d-bce7-4e57242fecf5"
   },
   "outputs": [],
   "source": [
    "import numpy as np\n",
    "import pandas as pd\n",
    "import seaborn as sns\n",
    "import matplotlib.pyplot as plt\n",
    "\n",
    "from subprocess import check_output"
   ]
  },
  {
   "cell_type": "code",
   "execution_count": 27,
   "metadata": {
    "colab": {
     "base_uri": "https://localhost:8080/",
     "height": 390
    },
    "colab_type": "code",
    "id": "U6as4TN_o9Nt",
    "outputId": "84c16cc8-29e1-40ab-8d1e-415e582c7693"
   },
   "outputs": [
    {
     "name": "stdout",
     "output_type": "stream",
     "text": [
      "<class 'pandas.core.frame.DataFrame'>\n",
      "RangeIndex: 17176 entries, 0 to 17175\n",
      "Data columns (total 14 columns):\n",
      " #   Column                     Non-Null Count  Dtype  \n",
      "---  ------                     --------------  -----  \n",
      " 0   tripid                     17176 non-null  int64  \n",
      " 1   additional_fare            16974 non-null  float64\n",
      " 2   duration                   16974 non-null  float64\n",
      " 3   meter_waiting              16974 non-null  float64\n",
      " 4   meter_waiting_fare         16974 non-null  float64\n",
      " 5   meter_waiting_till_pickup  16974 non-null  float64\n",
      " 6   pickup_time                17176 non-null  object \n",
      " 7   drop_time                  17176 non-null  object \n",
      " 8   pick_lat                   17176 non-null  float64\n",
      " 9   pick_lon                   17176 non-null  float64\n",
      " 10  drop_lat                   17176 non-null  float64\n",
      " 11  drop_lon                   17176 non-null  float64\n",
      " 12  fare                       17039 non-null  float64\n",
      " 13  label                      17176 non-null  object \n",
      "dtypes: float64(10), int64(1), object(3)\n",
      "memory usage: 1.8+ MB\n"
     ]
    }
   ],
   "source": [
    "data = pd.read_csv('./train.csv')\n",
    "data.info()"
   ]
  },
  {
   "cell_type": "code",
   "execution_count": 30,
   "metadata": {
    "colab": {
     "base_uri": "https://localhost:8080/",
     "height": 347
    },
    "colab_type": "code",
    "id": "3l3elHDXsHz3",
    "outputId": "b179b350-65da-45c5-e38e-5ea7b895c523"
   },
   "outputs": [
    {
     "data": {
      "text/html": [
       "<div>\n",
       "<style scoped>\n",
       "    .dataframe tbody tr th:only-of-type {\n",
       "        vertical-align: middle;\n",
       "    }\n",
       "\n",
       "    .dataframe tbody tr th {\n",
       "        vertical-align: top;\n",
       "    }\n",
       "\n",
       "    .dataframe thead th {\n",
       "        text-align: right;\n",
       "    }\n",
       "</style>\n",
       "<table border=\"1\" class=\"dataframe\">\n",
       "  <thead>\n",
       "    <tr style=\"text-align: right;\">\n",
       "      <th></th>\n",
       "      <th>additional_fare</th>\n",
       "      <th>duration</th>\n",
       "      <th>meter_waiting</th>\n",
       "      <th>meter_waiting_fare</th>\n",
       "      <th>meter_waiting_till_pickup</th>\n",
       "      <th>fare</th>\n",
       "    </tr>\n",
       "  </thead>\n",
       "  <tbody>\n",
       "    <tr>\n",
       "      <th>0</th>\n",
       "      <td>10.5</td>\n",
       "      <td>834.0</td>\n",
       "      <td>56.0</td>\n",
       "      <td>0.0000</td>\n",
       "      <td>64.0</td>\n",
       "      <td>270.32</td>\n",
       "    </tr>\n",
       "    <tr>\n",
       "      <th>1</th>\n",
       "      <td>10.5</td>\n",
       "      <td>791.0</td>\n",
       "      <td>47.0</td>\n",
       "      <td>0.0000</td>\n",
       "      <td>134.0</td>\n",
       "      <td>197.85</td>\n",
       "    </tr>\n",
       "    <tr>\n",
       "      <th>2</th>\n",
       "      <td>10.5</td>\n",
       "      <td>1087.0</td>\n",
       "      <td>80.0</td>\n",
       "      <td>0.0000</td>\n",
       "      <td>61.0</td>\n",
       "      <td>301.64</td>\n",
       "    </tr>\n",
       "    <tr>\n",
       "      <th>3</th>\n",
       "      <td>10.5</td>\n",
       "      <td>598.0</td>\n",
       "      <td>271.0</td>\n",
       "      <td>15.6638</td>\n",
       "      <td>68.0</td>\n",
       "      <td>82.30</td>\n",
       "    </tr>\n",
       "    <tr>\n",
       "      <th>5</th>\n",
       "      <td>10.5</td>\n",
       "      <td>3407.0</td>\n",
       "      <td>182.0</td>\n",
       "      <td>0.0000</td>\n",
       "      <td>112.0</td>\n",
       "      <td>1065.02</td>\n",
       "    </tr>\n",
       "    <tr>\n",
       "      <th>6</th>\n",
       "      <td>10.5</td>\n",
       "      <td>1246.0</td>\n",
       "      <td>487.0</td>\n",
       "      <td>0.0000</td>\n",
       "      <td>133.0</td>\n",
       "      <td>266.62</td>\n",
       "    </tr>\n",
       "    <tr>\n",
       "      <th>7</th>\n",
       "      <td>10.5</td>\n",
       "      <td>1333.0</td>\n",
       "      <td>295.0</td>\n",
       "      <td>17.1985</td>\n",
       "      <td>212.0</td>\n",
       "      <td>318.05</td>\n",
       "    </tr>\n",
       "    <tr>\n",
       "      <th>8</th>\n",
       "      <td>10.5</td>\n",
       "      <td>360.0</td>\n",
       "      <td>80.0</td>\n",
       "      <td>4.6640</td>\n",
       "      <td>3.0</td>\n",
       "      <td>100.32</td>\n",
       "    </tr>\n",
       "    <tr>\n",
       "      <th>9</th>\n",
       "      <td>10.5</td>\n",
       "      <td>1539.0</td>\n",
       "      <td>588.0</td>\n",
       "      <td>33.9864</td>\n",
       "      <td>43.0</td>\n",
       "      <td>257.89</td>\n",
       "    </tr>\n",
       "    <tr>\n",
       "      <th>10</th>\n",
       "      <td>10.5</td>\n",
       "      <td>26.0</td>\n",
       "      <td>19.0</td>\n",
       "      <td>0.0000</td>\n",
       "      <td>73.0</td>\n",
       "      <td>694.37</td>\n",
       "    </tr>\n",
       "  </tbody>\n",
       "</table>\n",
       "</div>"
      ],
      "text/plain": [
       "    additional_fare  duration  meter_waiting  meter_waiting_fare  \\\n",
       "0              10.5     834.0           56.0              0.0000   \n",
       "1              10.5     791.0           47.0              0.0000   \n",
       "2              10.5    1087.0           80.0              0.0000   \n",
       "3              10.5     598.0          271.0             15.6638   \n",
       "5              10.5    3407.0          182.0              0.0000   \n",
       "6              10.5    1246.0          487.0              0.0000   \n",
       "7              10.5    1333.0          295.0             17.1985   \n",
       "8              10.5     360.0           80.0              4.6640   \n",
       "9              10.5    1539.0          588.0             33.9864   \n",
       "10             10.5      26.0           19.0              0.0000   \n",
       "\n",
       "    meter_waiting_till_pickup     fare  \n",
       "0                        64.0   270.32  \n",
       "1                       134.0   197.85  \n",
       "2                        61.0   301.64  \n",
       "3                        68.0    82.30  \n",
       "5                       112.0  1065.02  \n",
       "6                       133.0   266.62  \n",
       "7                       212.0   318.05  \n",
       "8                         3.0   100.32  \n",
       "9                        43.0   257.89  \n",
       "10                       73.0   694.37  "
      ]
     },
     "execution_count": 30,
     "metadata": {},
     "output_type": "execute_result"
    }
   ],
   "source": [
    "data = data.dropna()\n",
    "\n",
    "mapping = {'correct': 1, 'incorrect': 0}\n",
    "data = data.replace({'label': mapping})\n",
    "\n",
    "train_y = data.label\n",
    "\n",
    "list = ['tripid', 'pickup_time', 'drop_time', 'pick_lat', 'pick_lon', 'drop_lat', 'drop_lon', 'label']\n",
    "train_x = data.drop(list, axis=1)\n",
    "train_x.head(10)"
   ]
  },
  {
   "cell_type": "code",
   "execution_count": 31,
   "metadata": {
    "colab": {
     "base_uri": "https://localhost:8080/",
     "height": 247
    },
    "colab_type": "code",
    "id": "bTKWHvDLxOzp",
    "outputId": "b6d8501f-64db-4975-aeda-588d0de501db"
   },
   "outputs": [
    {
     "name": "stdout",
     "output_type": "stream",
     "text": [
      "<class 'pandas.core.frame.DataFrame'>\n",
      "Int64Index: 16968 entries, 0 to 17175\n",
      "Data columns (total 6 columns):\n",
      " #   Column                     Non-Null Count  Dtype  \n",
      "---  ------                     --------------  -----  \n",
      " 0   additional_fare            16968 non-null  float64\n",
      " 1   duration                   16968 non-null  float64\n",
      " 2   meter_waiting              16968 non-null  float64\n",
      " 3   meter_waiting_fare         16968 non-null  float64\n",
      " 4   meter_waiting_till_pickup  16968 non-null  float64\n",
      " 5   fare                       16968 non-null  float64\n",
      "dtypes: float64(6)\n",
      "memory usage: 927.9 KB\n"
     ]
    }
   ],
   "source": [
    "train_x.info()"
   ]
  },
  {
   "cell_type": "code",
   "execution_count": 32,
   "metadata": {
    "colab": {
     "base_uri": "https://localhost:8080/",
     "height": 315
    },
    "colab_type": "code",
    "id": "q08sk_Ge6Nn_",
    "outputId": "6f895585-10e2-4f64-a762-9ff624c0af42"
   },
   "outputs": [
    {
     "name": "stdout",
     "output_type": "stream",
     "text": [
      "correct:  15442\n",
      "incorrect:  1526\n"
     ]
    },
    {
     "data": {
      "image/png": "[encoded data removed]",
      "text/plain": [
       "<Figure size 432x288 with 1 Axes>"
      ]
     },
     "metadata": {
      "needs_background": "light"
     },
     "output_type": "display_data"
    }
   ],
   "source": [
    "ax = sns.countplot(train_y, label=\"Count\")\n",
    "correct, incorrect = train_y.value_counts()\n",
    "print(\"correct: \", correct)\n",
    "print(\"incorrect: \", incorrect)"
   ]
  },
  {
   "cell_type": "code",
   "execution_count": 33,
   "metadata": {
    "colab": {
     "base_uri": "https://localhost:8080/",
     "height": 287
    },
    "colab_type": "code",
    "id": "e1ylgRiq840D",
    "outputId": "399b0b26-458a-4ebc-b2ac-ddb169ba3e97"
   },
   "outputs": [
    {
     "data": {
      "text/html": [
       "<div>\n",
       "<style scoped>\n",
       "    .dataframe tbody tr th:only-of-type {\n",
       "        vertical-align: middle;\n",
       "    }\n",
       "\n",
       "    .dataframe tbody tr th {\n",
       "        vertical-align: top;\n",
       "    }\n",
       "\n",
       "    .dataframe thead th {\n",
       "        text-align: right;\n",
       "    }\n",
       "</style>\n",
       "<table border=\"1\" class=\"dataframe\">\n",
       "  <thead>\n",
       "    <tr style=\"text-align: right;\">\n",
       "      <th></th>\n",
       "      <th>additional_fare</th>\n",
       "      <th>duration</th>\n",
       "      <th>meter_waiting</th>\n",
       "      <th>meter_waiting_fare</th>\n",
       "      <th>meter_waiting_till_pickup</th>\n",
       "      <th>fare</th>\n",
       "    </tr>\n",
       "  </thead>\n",
       "  <tbody>\n",
       "    <tr>\n",
       "      <th>count</th>\n",
       "      <td>16968.000000</td>\n",
       "      <td>16968.000000</td>\n",
       "      <td>16968.000000</td>\n",
       "      <td>16968.000000</td>\n",
       "      <td>16968.000000</td>\n",
       "      <td>16968.000000</td>\n",
       "    </tr>\n",
       "    <tr>\n",
       "      <th>mean</th>\n",
       "      <td>13.721437</td>\n",
       "      <td>1702.836987</td>\n",
       "      <td>628.875000</td>\n",
       "      <td>32.045122</td>\n",
       "      <td>112.489510</td>\n",
       "      <td>312.657884</td>\n",
       "    </tr>\n",
       "    <tr>\n",
       "      <th>std</th>\n",
       "      <td>98.992493</td>\n",
       "      <td>8121.556167</td>\n",
       "      <td>8064.657846</td>\n",
       "      <td>465.564240</td>\n",
       "      <td>442.129943</td>\n",
       "      <td>606.372103</td>\n",
       "    </tr>\n",
       "    <tr>\n",
       "      <th>min</th>\n",
       "      <td>0.000000</td>\n",
       "      <td>0.000000</td>\n",
       "      <td>0.000000</td>\n",
       "      <td>0.000000</td>\n",
       "      <td>0.000000</td>\n",
       "      <td>0.000000</td>\n",
       "    </tr>\n",
       "    <tr>\n",
       "      <th>25%</th>\n",
       "      <td>10.500000</td>\n",
       "      <td>548.000000</td>\n",
       "      <td>33.000000</td>\n",
       "      <td>0.000000</td>\n",
       "      <td>26.000000</td>\n",
       "      <td>125.500000</td>\n",
       "    </tr>\n",
       "    <tr>\n",
       "      <th>50%</th>\n",
       "      <td>10.500000</td>\n",
       "      <td>1009.000000</td>\n",
       "      <td>123.000000</td>\n",
       "      <td>0.115600</td>\n",
       "      <td>73.000000</td>\n",
       "      <td>211.050000</td>\n",
       "    </tr>\n",
       "    <tr>\n",
       "      <th>75%</th>\n",
       "      <td>10.500000</td>\n",
       "      <td>1802.250000</td>\n",
       "      <td>351.000000</td>\n",
       "      <td>14.334400</td>\n",
       "      <td>144.000000</td>\n",
       "      <td>366.205000</td>\n",
       "    </tr>\n",
       "    <tr>\n",
       "      <th>max</th>\n",
       "      <td>12795.030000</td>\n",
       "      <td>453872.000000</td>\n",
       "      <td>453650.000000</td>\n",
       "      <td>26198.601400</td>\n",
       "      <td>51288.000000</td>\n",
       "      <td>26945.990000</td>\n",
       "    </tr>\n",
       "  </tbody>\n",
       "</table>\n",
       "</div>"
      ],
      "text/plain": [
       "       additional_fare       duration  meter_waiting  meter_waiting_fare  \\\n",
       "count     16968.000000   16968.000000   16968.000000        16968.000000   \n",
       "mean         13.721437    1702.836987     628.875000           32.045122   \n",
       "std          98.992493    8121.556167    8064.657846          465.564240   \n",
       "min           0.000000       0.000000       0.000000            0.000000   \n",
       "25%          10.500000     548.000000      33.000000            0.000000   \n",
       "50%          10.500000    1009.000000     123.000000            0.115600   \n",
       "75%          10.500000    1802.250000     351.000000           14.334400   \n",
       "max       12795.030000  453872.000000  453650.000000        26198.601400   \n",
       "\n",
       "       meter_waiting_till_pickup          fare  \n",
       "count               16968.000000  16968.000000  \n",
       "mean                  112.489510    312.657884  \n",
       "std                   442.129943    606.372103  \n",
       "min                     0.000000      0.000000  \n",
       "25%                    26.000000    125.500000  \n",
       "50%                    73.000000    211.050000  \n",
       "75%                   144.000000    366.205000  \n",
       "max                 51288.000000  26945.990000  "
      ]
     },
     "execution_count": 33,
     "metadata": {},
     "output_type": "execute_result"
    }
   ],
   "source": [
    "train_x.describe()"
   ]
  },
  {
   "cell_type": "code",
   "execution_count": 34,
   "metadata": {
    "colab": {
     "base_uri": "https://localhost:8080/",
     "height": 197
    },
    "colab_type": "code",
    "id": "kwQE35vUJqhR",
    "outputId": "b77907f7-f470-479a-e4b7-44b79e8a1ad6"
   },
   "outputs": [
    {
     "data": {
      "text/html": [
       "<div>\n",
       "<style scoped>\n",
       "    .dataframe tbody tr th:only-of-type {\n",
       "        vertical-align: middle;\n",
       "    }\n",
       "\n",
       "    .dataframe tbody tr th {\n",
       "        vertical-align: top;\n",
       "    }\n",
       "\n",
       "    .dataframe thead th {\n",
       "        text-align: right;\n",
       "    }\n",
       "</style>\n",
       "<table border=\"1\" class=\"dataframe\">\n",
       "  <thead>\n",
       "    <tr style=\"text-align: right;\">\n",
       "      <th></th>\n",
       "      <th>additional_fare</th>\n",
       "      <th>duration</th>\n",
       "      <th>meter_waiting</th>\n",
       "      <th>meter_waiting_till_pickup</th>\n",
       "      <th>fare</th>\n",
       "    </tr>\n",
       "  </thead>\n",
       "  <tbody>\n",
       "    <tr>\n",
       "      <th>0</th>\n",
       "      <td>10.5</td>\n",
       "      <td>834.0</td>\n",
       "      <td>56.0</td>\n",
       "      <td>64.0</td>\n",
       "      <td>270.32</td>\n",
       "    </tr>\n",
       "    <tr>\n",
       "      <th>1</th>\n",
       "      <td>10.5</td>\n",
       "      <td>791.0</td>\n",
       "      <td>47.0</td>\n",
       "      <td>134.0</td>\n",
       "      <td>197.85</td>\n",
       "    </tr>\n",
       "    <tr>\n",
       "      <th>2</th>\n",
       "      <td>10.5</td>\n",
       "      <td>1087.0</td>\n",
       "      <td>80.0</td>\n",
       "      <td>61.0</td>\n",
       "      <td>301.64</td>\n",
       "    </tr>\n",
       "    <tr>\n",
       "      <th>3</th>\n",
       "      <td>10.5</td>\n",
       "      <td>598.0</td>\n",
       "      <td>271.0</td>\n",
       "      <td>68.0</td>\n",
       "      <td>82.30</td>\n",
       "    </tr>\n",
       "    <tr>\n",
       "      <th>5</th>\n",
       "      <td>10.5</td>\n",
       "      <td>3407.0</td>\n",
       "      <td>182.0</td>\n",
       "      <td>112.0</td>\n",
       "      <td>1065.02</td>\n",
       "    </tr>\n",
       "  </tbody>\n",
       "</table>\n",
       "</div>"
      ],
      "text/plain": [
       "   additional_fare  duration  meter_waiting  meter_waiting_till_pickup  \\\n",
       "0             10.5     834.0           56.0                       64.0   \n",
       "1             10.5     791.0           47.0                      134.0   \n",
       "2             10.5    1087.0           80.0                       61.0   \n",
       "3             10.5     598.0          271.0                       68.0   \n",
       "5             10.5    3407.0          182.0                      112.0   \n",
       "\n",
       "      fare  \n",
       "0   270.32  \n",
       "1   197.85  \n",
       "2   301.64  \n",
       "3    82.30  \n",
       "5  1065.02  "
      ]
     },
     "execution_count": 34,
     "metadata": {},
     "output_type": "execute_result"
    }
   ],
   "source": [
    "drop_list = ['meter_waiting_fare']\n",
    "train_x = train_x.drop(drop_list,axis = 1 )        # do not modify x, we will use it later \n",
    "train_x.head()"
   ]
  },
  {
   "cell_type": "code",
   "execution_count": 35,
   "metadata": {
    "colab": {},
    "colab_type": "code",
    "id": "zuyWl1-QMyOc"
   },
   "outputs": [],
   "source": [
    "from sklearn.model_selection import train_test_split\n",
    "from sklearn.ensemble import RandomForestClassifier\n",
    "from sklearn.metrics import f1_score,confusion_matrix\n",
    "from sklearn.metrics import accuracy_score\n",
    "\n",
    "#random forest classifier with n_estimators=10 (default)\n",
    "clf_rf = RandomForestClassifier(random_state=40)      \n",
    "clr_rf = clf_rf.fit(train_x,train_y)\n"
   ]
  },
  {
   "cell_type": "code",
   "execution_count": 36,
   "metadata": {
    "colab": {},
    "colab_type": "code",
    "id": "Di6opra6SIq2"
   },
   "outputs": [],
   "source": [
    "test_x = pd.read_csv(\"./test.csv\")\n",
    "drop_list2 = ['tripid', 'meter_waiting_fare', 'pickup_time', 'drop_time', 'pick_lat', 'pick_lon', 'drop_lat', 'drop_lon']\n",
    "test_x = test_x.drop(drop_list2, axis=1)\n",
    "# test_x.head()\n",
    "\n",
    "pred_y = clr_rf.predict(test_x)\n",
    "\n",
    "pred_result = pd.read_csv(\"sample_submission.csv\")\n",
    "pred_result[\"prediction\"] = pred_y\n",
    "\n",
    "pred_result.to_csv(\"prediction.csv\", index=False)\n"
   ]
  }
 ],
 "metadata": {
  "colab": {
   "collapsed_sections": [],
   "name": "Copy of machine_learning_kaggle_competition.ipynb",
   "provenance": []
  },
  "kernelspec": {
   "display_name": "Python 3",
   "language": "python",
   "name": "python3"
  },
  "language_info": {
   "codemirror_mode": {
    "name": "ipython",
    "version": 3
   },
   "file_extension": ".py",
   "mimetype": "text/x-python",
   "name": "python",
   "nbconvert_exporter": "python",
   "pygments_lexer": "ipython3",
   "version": "3.7.7"
  }
 },
 "nbformat": 4,
 "nbformat_minor": 1
}
